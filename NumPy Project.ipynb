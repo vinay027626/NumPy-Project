{
 "cells": [
  {
   "cell_type": "markdown",
   "id": "00d6194c",
   "metadata": {},
   "source": [
    "## 1.Load the data. Data is already given to you in variable path"
   ]
  },
  {
   "cell_type": "code",
   "execution_count": 1,
   "id": "cbb22b0e",
   "metadata": {},
   "outputs": [],
   "source": [
    "import numpy as np\n",
    "\n",
    "project_data='KAG_Conversion_Data.csv'\n",
    "data1 = np.genfromtxt(project_data, delimiter=\",\", skip_header=1)\n",
    "datas=np.genfromtxt(project_data, delimiter = \",\", skip_header=1, dtype='str')"
   ]
  },
  {
   "cell_type": "markdown",
   "id": "8fde1ed4",
   "metadata": {},
   "source": [
    "## 2.How many unique ad campaigns (xyzcampaignid) does this data contain ? And for how many times was each campaign run ?"
   ]
  },
  {
   "cell_type": "code",
   "execution_count": 2,
   "id": "2dd265d4",
   "metadata": {},
   "outputs": [
    {
     "name": "stdout",
     "output_type": "stream",
     "text": [
      "Unique ad campaigns are :  [ 916.  936. 1178.]\n",
      "Ad campaign 916 was run  54  times\n",
      "Ad campaign 936 was run  464  times\n",
      "Ad campaign 1178 was run  625  times\n"
     ]
    }
   ],
   "source": [
    "print('Unique ad campaigns are : ',np.unique(data1[:,1]))\n",
    "j=0\n",
    "for i in range(len(data1)):\n",
    "  if data1[i,1] == 916:\n",
    "    j+=1\n",
    "print('Ad campaign 916 was run ',j,' times')\n",
    "k=0\n",
    "for i in range(len(data1)):\n",
    "  if data1[i,1] == 936:\n",
    "    k+=1\n",
    "print('Ad campaign 936 was run ',k,' times')\n",
    "l=0\n",
    "for i in range(len(data1)):\n",
    "  if data1[i,1] == 1178:\n",
    "    l+=1\n",
    "print('Ad campaign 1178 was run ',l,' times')"
   ]
  },
  {
   "cell_type": "markdown",
   "id": "6860c502",
   "metadata": {},
   "source": [
    "## 3.What are the age groups that were targeted through these ad campaigns?"
   ]
  },
  {
   "cell_type": "code",
   "execution_count": 3,
   "id": "af47bac1",
   "metadata": {},
   "outputs": [
    {
     "name": "stdout",
     "output_type": "stream",
     "text": [
      "Targeted Age groups are : \n"
     ]
    },
    {
     "data": {
      "text/plain": [
       "(array(['30-34', '35-39', '40-44', '45-49'], dtype='<U11'),\n",
       " array([426, 248, 210, 259]))"
      ]
     },
     "execution_count": 3,
     "metadata": {},
     "output_type": "execute_result"
    }
   ],
   "source": [
    "print('Targeted Age groups are : ')\n",
    "np.unique(datas[:,3], return_counts=True)"
   ]
  },
  {
   "cell_type": "markdown",
   "id": "bfbd6b48",
   "metadata": {},
   "source": [
    "## 4.What was the average, minimum and maximum amount spent on the ads?"
   ]
  },
  {
   "cell_type": "code",
   "execution_count": 4,
   "id": "3c7b7076",
   "metadata": {},
   "outputs": [
    {
     "name": "stdout",
     "output_type": "stream",
     "text": [
      "Average spends on ads =  51.36065613141295\n",
      "Minimum spends on ads =  0.0\n",
      "Maximum spends on ads =  639.9499981\n"
     ]
    }
   ],
   "source": [
    "spends = data1[:,8]\n",
    "avg_spends = spends.mean()\n",
    "min_spends = spends.min()\n",
    "max_spends = spends.max()\n",
    "print('Average spends on ads = ',avg_spends)\n",
    "print('Minimum spends on ads = ',min_spends)\n",
    "print('Maximum spends on ads = ',max_spends)"
   ]
  },
  {
   "cell_type": "markdown",
   "id": "ea948370",
   "metadata": {},
   "source": [
    "## 5.What is the id of the ad having the maximum number of clicks ?"
   ]
  },
  {
   "cell_type": "code",
   "execution_count": 5,
   "id": "f845c4b7",
   "metadata": {},
   "outputs": [
    {
     "name": "stdout",
     "output_type": "stream",
     "text": [
      "Ad id for the ad with maximum clicks is  [[1121814.]]\n"
     ]
    }
   ],
   "source": [
    "max_click = np.max(data1[:,7])\n",
    "b = np.where((data1[:,7]) == max_click)\n",
    "ad_id_max = data1[b,0]\n",
    "print('Ad id for the ad with maximum clicks is ', ad_id_max)"
   ]
  },
  {
   "cell_type": "markdown",
   "id": "0fb99965",
   "metadata": {},
   "source": [
    "## 6.So the ad with the most clicks didn't fetch the maximum number of purchases. Find the details of the product having maximum number of purchases"
   ]
  },
  {
   "cell_type": "code",
   "execution_count": 6,
   "id": "9df88216",
   "metadata": {},
   "outputs": [
    {
     "name": "stdout",
     "output_type": "stream",
     "text": [
      "Details of ad with max purchases are  [[['1121104' '1178' '144533' '30-34' 'M' '16' '2080666' '202'\n",
      "   '360.1500015' '40' '21']]]\n"
     ]
    }
   ],
   "source": [
    "max_purchase = np.max(data1[:,10])\n",
    "c = np.where((data1[:,10]) == max_purchase)\n",
    "pd_max_purchase = np.array(datas[c,:])\n",
    "print('Details of ad with max purchases are ',pd_max_purchase)"
   ]
  },
  {
   "cell_type": "code",
   "execution_count": null,
   "id": "ef35ec97",
   "metadata": {},
   "outputs": [],
   "source": []
  }
 ],
 "metadata": {
  "kernelspec": {
   "display_name": "Python 3 (ipykernel)",
   "language": "python",
   "name": "python3"
  },
  "language_info": {
   "codemirror_mode": {
    "name": "ipython",
    "version": 3
   },
   "file_extension": ".py",
   "mimetype": "text/x-python",
   "name": "python",
   "nbconvert_exporter": "python",
   "pygments_lexer": "ipython3",
   "version": "3.10.2"
  }
 },
 "nbformat": 4,
 "nbformat_minor": 5
}
